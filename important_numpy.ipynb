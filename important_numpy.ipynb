{
 "cells": [
  {
   "cell_type": "markdown",
   "metadata": {},
   "source": [
    "# Numpy"
   ]
  },
  {
   "cell_type": "code",
   "execution_count": 1,
   "metadata": {},
   "outputs": [],
   "source": [
    "import numpy as np"
   ]
  },
  {
   "cell_type": "markdown",
   "metadata": {},
   "source": [
    "## 1. Defining array, Access element  of array & Slicing of array "
   ]
  },
  {
   "cell_type": "code",
   "execution_count": 24,
   "metadata": {},
   "outputs": [
    {
     "name": "stdout",
     "output_type": "stream",
     "text": [
      "<class 'list'>\n"
     ]
    }
   ],
   "source": [
    "# Defining Array\n",
    "array_3d = np.array([[[1, 2, 3], [4, 5, 6]],[[0, -1, -2], [-3, -4, -5]]], np.int16)   # 3D array of 16-bit int type\n",
    "\n",
    "# Printing\n",
    "print(\"\\n3D Array: \", array_3d)  # [ [ [1 2 3][ 4 5 6] ]  [ [0 -1 -2][-3 -4 -5] ] ] \n",
    "\n",
    "# Printing in loop\n",
    "[[[item for item in array1d] for array1d in array2d] for array2d in array_3d]  # 1, 2, 3, 4, 5, 6, 0, -1, -2, -3, -4, -5,\n",
    "\n",
    "print(type(lst))"
   ]
  },
  {
   "cell_type": "code",
   "execution_count": 18,
   "metadata": {},
   "outputs": [
    {
     "name": "stdout",
     "output_type": "stream",
     "text": [
      "6\n",
      "[[ 1  4]\n",
      " [ 0 -3]]\n"
     ]
    }
   ],
   "source": [
    "# Accessing element\n",
    "print(array_3d[0][1][2])  # 6 row=0, col=1, 3rd ele\n",
    "# 3d indexing array\n",
    "print(array_3d[:, :, 0])   # row=-1, col=-1, ele= 0th > [[ 1  4][ 0 -3]]"
   ]
  },
  {
   "cell_type": "code",
   "execution_count": null,
   "metadata": {},
   "outputs": [],
   "source": [
    "arr = np.arange(50,70)\n",
    "\n",
    "print(arr[4])\n",
    "print(arr[8 : 20])\n",
    "print(arr[-1])\n",
    "print(sum(arr > 55))"
   ]
  },
  {
   "cell_type": "code",
   "execution_count": 37,
   "metadata": {},
   "outputs": [
    {
     "name": "stdout",
     "output_type": "stream",
     "text": [
      "[150 151 152 153 154 155 156 157 158 159 160 161 162 163 164 165 166 167\n",
      " 168 169]\n",
      "[30 31 32 33 34 35 36 37 38 39 40 41 42 43 44 45 46 47 48 49]\n",
      "[100 102 104 106 108 110 112 114 116 118 120 122 124 126 128 130 132 134\n",
      " 136 138]\n",
      "[25.  25.5 26.  26.5 27.  27.5 28.  28.5 29.  29.5 30.  30.5 31.  31.5\n",
      " 32.  32.5 33.  33.5 34.  34.5]\n"
     ]
    }
   ],
   "source": [
    "print(arr + 100)\n",
    "print(arr - 20)\n",
    "print(arr * 2)\n",
    "print(arr / 2)"
   ]
  },
  {
   "cell_type": "markdown",
   "metadata": {},
   "source": [
    "## 2. Numpy Constant"
   ]
  },
  {
   "cell_type": "code",
   "execution_count": 17,
   "metadata": {},
   "outputs": [
    {
     "name": "stdout",
     "output_type": "stream",
     "text": [
      "inf\n",
      "nan\n",
      "-inf\n",
      "-0.0\n",
      "0.0\n",
      "2.718281828459045\n",
      "0.5772156649015329\n",
      "3.141592653589793\n"
     ]
    }
   ],
   "source": [
    "# Numpy Contant\n",
    "print(np.inf)     # +ve infinity\n",
    "print(np.nan)     # not a number\n",
    "print(np.NINF)    # -ve infinity\n",
    "print(np.NZERO)   # -ve zero\n",
    "print(np.PZERO)   # +ve zero\n",
    "print(np.e)       # natutral logarithm > 2.718281828459045\n",
    "print(np.euler_gamma)  # 0.5772156649015329\n",
    "print(np.pi)      # pi 3.141592653589793"
   ]
  },
  {
   "cell_type": "markdown",
   "metadata": {},
   "source": [
    "## 3. Numpy Manupulation"
   ]
  },
  {
   "cell_type": "code",
   "execution_count": 25,
   "metadata": {},
   "outputs": [
    {
     "name": "stdout",
     "output_type": "stream",
     "text": [
      "[[224 251  28]\n",
      " [ 64 188 127]\n",
      " [  0   0 224]]\n"
     ]
    }
   ],
   "source": [
    "# 1. np.empty() function\n",
    "empty = np.empty([3, 3], np.uint8) # Random Values in array\n",
    "print(empty)"
   ]
  },
  {
   "cell_type": "code",
   "execution_count": 30,
   "metadata": {},
   "outputs": [
    {
     "name": "stdout",
     "output_type": "stream",
     "text": [
      "[[5 0 0 0 0]\n",
      " [0 5 0 0 0]\n",
      " [0 0 5 0 0]\n",
      " [0 0 0 5 0]\n",
      " [0 0 0 0 5]] \n",
      "\n",
      "[[inf  2. inf inf inf]\n",
      " [inf inf  2. inf inf]\n",
      " [inf inf inf  2. inf]\n",
      " [inf inf inf inf  2.]\n",
      " [inf inf inf inf inf]] \n",
      "\n",
      "[[3 3 3 3 3]\n",
      " [4 3 3 3 3]\n",
      " [3 4 3 3 3]\n",
      " [3 3 4 3 3]\n",
      " [3 3 3 4 3]] \n",
      "\n"
     ]
    },
    {
     "name": "stderr",
     "output_type": "stream",
     "text": [
      "/home/hamza/anaconda3/lib/python3.7/site-packages/ipykernel_launcher.py:5: RuntimeWarning: divide by zero encountered in true_divide\n",
      "  \"\"\"\n"
     ]
    }
   ],
   "source": [
    "# 2. np.eye function\n",
    "eye_k_0 = 5 * np.eye(5, dtype=np.uint8, k=0)  # k = 0 (By default)\n",
    "print(eye_k_0, \"\\n\")\n",
    "\n",
    "eye_k_1 = 2 / np.eye(5, dtype=np.uint8, k=1)  # k = 1\n",
    "print(eye_k_1, \"\\n\")\n",
    "\n",
    "eye_k_minus_1 = 3 + np.eye(5, dtype=np.uint8, k=-1)  # K= -1\n",
    "print(eye_k_minus_1, \"\\n\")"
   ]
  },
  {
   "cell_type": "code",
   "execution_count": 31,
   "metadata": {},
   "outputs": [
    {
     "name": "stdout",
     "output_type": "stream",
     "text": [
      "[[3 0 0 0 0]\n",
      " [0 3 0 0 0]\n",
      " [0 0 3 0 0]\n",
      " [0 0 0 3 0]\n",
      " [0 0 0 0 3]]\n"
     ]
    }
   ],
   "source": [
    "# 3. np.identity() function\n",
    "identity = 3 * np.identity(5, dtype= np.uint8)\n",
    "print(identity)"
   ]
  },
  {
   "cell_type": "code",
   "execution_count": 5,
   "metadata": {},
   "outputs": [
    {
     "data": {
      "text/plain": [
       "array([[0., 0., 0., 0., 0., 0.],\n",
       "       [0., 0., 0., 0., 0., 0.],\n",
       "       [0., 0., 0., 0., 0., 0.],\n",
       "       [0., 0., 0., 0., 0., 0.]])"
      ]
     },
     "execution_count": 5,
     "metadata": {},
     "output_type": "execute_result"
    }
   ],
   "source": [
    "np.zeros(shape=(4, 6))"
   ]
  },
  {
   "cell_type": "code",
   "execution_count": 32,
   "metadata": {},
   "outputs": [
    {
     "data": {
      "text/plain": [
       "array([[5., 5., 5., 5., 5.],\n",
       "       [5., 5., 5., 5., 5.],\n",
       "       [5., 5., 5., 5., 5.]])"
      ]
     },
     "execution_count": 32,
     "metadata": {},
     "output_type": "execute_result"
    }
   ],
   "source": [
    "5 * np.ones(shape=(3, 5))"
   ]
  },
  {
   "cell_type": "code",
   "execution_count": 28,
   "metadata": {},
   "outputs": [
    {
     "name": "stdout",
     "output_type": "stream",
     "text": [
      "[[[5 5 5]\n",
      "  [5 5 5]\n",
      "  [5 5 5]]\n",
      "\n",
      " [[5 5 5]\n",
      "  [5 5 5]\n",
      "  [5 5 5]]\n",
      "\n",
      " [[5 5 5]\n",
      "  [5 5 5]\n",
      "  [5 5 5]]]\n"
     ]
    }
   ],
   "source": [
    "# 6. np.fill() function > Fill all indexes by value \n",
    "full_fill = np.full((3, 3, 3), dtype=np.int16, fill_value = 5)\n",
    "print(full_fill)"
   ]
  },
  {
   "cell_type": "code",
   "execution_count": 7,
   "metadata": {},
   "outputs": [
    {
     "data": {
      "text/plain": [
       "array([-5, -2,  1,  4,  7])"
      ]
     },
     "execution_count": 7,
     "metadata": {},
     "output_type": "execute_result"
    }
   ],
   "source": [
    "np.arange(-5, 10)\n",
    "np.arange(-5, 10, 3)"
   ]
  },
  {
   "cell_type": "code",
   "execution_count": 8,
   "metadata": {},
   "outputs": [
    {
     "data": {
      "text/plain": [
       "array([ 0.,  5., 10., 15., 20.])"
      ]
     },
     "execution_count": 8,
     "metadata": {},
     "output_type": "execute_result"
    }
   ],
   "source": [
    "np.linspace(0, 20, 5)"
   ]
  },
  {
   "cell_type": "code",
   "execution_count": 49,
   "metadata": {},
   "outputs": [
    {
     "data": {
      "text/plain": [
       "array([[0, 1],\n",
       "       [2, 3],\n",
       "       [4, 5]])"
      ]
     },
     "execution_count": 49,
     "metadata": {},
     "output_type": "execute_result"
    }
   ],
   "source": [
    "x = np.arange(6)      # [0 1 2 3 4 5]\n",
    "x.reshape((3, 2)) # row=3, col=2"
   ]
  },
  {
   "cell_type": "code",
   "execution_count": 50,
   "metadata": {},
   "outputs": [
    {
     "data": {
      "text/plain": [
       "array([0, 1, 2, 3, 4, 5])"
      ]
     },
     "execution_count": 50,
     "metadata": {},
     "output_type": "execute_result"
    }
   ],
   "source": [
    "# np.ravel() > To convert dimensional array to linear array\n",
    "np.ravel(x)"
   ]
  },
  {
   "cell_type": "code",
   "execution_count": 79,
   "metadata": {},
   "outputs": [
    {
     "data": {
      "text/plain": [
       "array([-3.14159265,  3.14159265])"
      ]
     },
     "execution_count": 79,
     "metadata": {},
     "output_type": "execute_result"
    }
   ],
   "source": [
    "# np.unique() > return only unique values\n",
    "np.unique(x.flatten())"
   ]
  },
  {
   "cell_type": "code",
   "execution_count": 51,
   "metadata": {},
   "outputs": [
    {
     "name": "stdout",
     "output_type": "stream",
     "text": [
      "[0 1 2 3 4 5]\n",
      "[0 1 2 3 4 5]\n",
      "[0 1 2 3 4 5]\n"
     ]
    }
   ],
   "source": [
    "# np.flatten() > To convert dimensional array to linear array \n",
    "## Coulmn wise\n",
    "flatten = x.flatten()       # Col wise: [0 1 2 3 4 5]\n",
    "print(flatten)\n",
    "\n",
    "flatten_C = x.flatten('C')  # Col wise: [0 1 2 3 4 5]\n",
    "print(flatten_C)\n",
    "\n",
    "## Row wise\n",
    "flatten_F = x.flatten('F')  # row wise: [0 2 4 1 3 5]\n",
    "print(flatten_F)"
   ]
  },
  {
   "cell_type": "code",
   "execution_count": 54,
   "metadata": {},
   "outputs": [
    {
     "name": "stdout",
     "output_type": "stream",
     "text": [
      "[[1 2 3]\n",
      " [4 5 6]]\n",
      "[[1 2 3]\n",
      " [4 5 6]]\n",
      "[[1 4]\n",
      " [2 5]\n",
      " [3 6]]\n",
      "[[1 4]\n",
      " [2 5]\n",
      " [3 6]]\n",
      "[[[1 4]\n",
      "  [2 5]\n",
      "  [3 6]]]\n",
      "[1 2 3 4 5 6]\n",
      "[[1 2 3]\n",
      " [4 5 6]]\n"
     ]
    }
   ],
   "source": [
    "x = np.array([1, 2, 3], dtype = np.uint8)\n",
    "y = np.array([4, 5, 6], dtype = np.uint8)\n",
    "\n",
    "# np.stack()/np.dstack() > combine two arrays in one \n",
    "z = np.stack((x, y))             # [[1 2 3]\n",
    "                                 #  [4 5 6]]\n",
    "print(z)\n",
    "\n",
    "z = np.stack((x, y), axis = 0 )  # axis=0 > [[1 2 3]\n",
    "                                 #          [4 5 6]]\n",
    "print(z)\n",
    "\n",
    "z = np.stack((x, y), axis = -1 ) # axis=-1 > [[1 4]\n",
    "                                 #            [2 5]\n",
    "                                 #            [3 6]]\n",
    "print(z)\n",
    "\n",
    "z = np.stack((x, y), axis = 1 )  # axis=-1 > [[1 4]\n",
    "                                 #            [2 5]\n",
    "                                 #            [3 6]]\n",
    "print(z)\n",
    "\n",
    "z = np.dstack((x, y))            # [[[1 4]\n",
    "                                 #   [2 5]\n",
    "                                 #   [3 6]]]\n",
    "print(z)\n",
    "\n",
    "z = np.hstack((x, y))            # [1 2 3 4 5 6]\n",
    "print(z)\n",
    "\n",
    "z = np.vstack((x, y))            # [[1 2 3]\n",
    "                                 #  [4 5 6]]\n",
    "print(z)"
   ]
  },
  {
   "cell_type": "code",
   "execution_count": 64,
   "metadata": {},
   "outputs": [
    {
     "name": "stdout",
     "output_type": "stream",
     "text": [
      "[0 1 2 3 4] [5 6 7 8 9] [10 11 12 13 14]\n"
     ]
    }
   ],
   "source": [
    "# np.split()\n",
    "x = np.arange(15)\n",
    "a, b, c = np.split(x,  # [1 2 3]\n",
    "                   3)  # split into 3\n",
    "print(a, b, c)         # [1] [2] [3]\n",
    "\n",
    "x= np.array([[[1, 2, 3], [4, 5, 6]],[[0, -1, -2], [-3, -4, -5]]], np.int16)   # 3D array of 16-bit int type\n",
    "# a, b = np.dsplit(x, 2)\n",
    "print(a, b)\n",
    "\n",
    "# a, b = np.hsplit(x, 2)\n",
    "print(a, b)\n",
    "\n",
    "# a, b = np.vsplit(x, 2)\n",
    "print(a, b)"
   ]
  },
  {
   "cell_type": "code",
   "execution_count": 82,
   "metadata": {},
   "outputs": [
    {
     "name": "stdout",
     "output_type": "stream",
     "text": [
      "Row:  [[1 2 3]\n",
      " [1 2 3]]\n",
      "Row:  [[1 2 3]\n",
      " [1 2 3]]\n",
      "Row:  [[1 2 3]\n",
      " [1 2 3]]\n",
      "\n",
      "Column:  [[1 2 1]\n",
      " [3 2 3]]\n"
     ]
    }
   ],
   "source": [
    "# np.sort()\n",
    "data = np.array([[1, 2, 3],\n",
    "                [3, 2, 1]])\n",
    "\n",
    "# sort data row wise\n",
    "print(\"Row: \", np.sort(data))\n",
    "print(\"Row: \", np.sort(data, axis = -1))\n",
    "print(\"Row: \", np.sort(data, axis = 1))\n",
    "\n",
    "# sort data column wise\n",
    "print(\"\\nColumn: \", np.sort(data, axis = 0))"
   ]
  },
  {
   "cell_type": "markdown",
   "metadata": {},
   "source": [
    "## 4. Random Routines"
   ]
  },
  {
   "cell_type": "code",
   "execution_count": 29,
   "metadata": {},
   "outputs": [
    {
     "name": "stdout",
     "output_type": "stream",
     "text": [
      "[1 8 4 7 6 7 0 3 3 5]\n"
     ]
    }
   ],
   "source": [
    "# np.random.randint() \n",
    "randint = np.random.randint( low = 0, high = 9, size = 10)  # item varies from 0 to 9 inside array of size 10\n",
    "print(randint)"
   ]
  },
  {
   "cell_type": "code",
   "execution_count": 33,
   "metadata": {},
   "outputs": [
    {
     "data": {
      "text/plain": [
       "array([[[0.70920729, 0.87632473, 0.83716404, 0.82174875, 0.09363353,\n",
       "         0.23883616],\n",
       "        [0.76485185, 0.39236864, 0.59522167, 0.05024529, 0.17336632,\n",
       "         0.91106043],\n",
       "        [0.02156991, 0.18080991, 0.48868799, 0.15287406, 0.06432541,\n",
       "         0.8022512 ]],\n",
       "\n",
       "       [[0.8453662 , 0.41758623, 0.06255922, 0.64232419, 0.64321826,\n",
       "         0.42185874],\n",
       "        [0.40116969, 0.06062994, 0.37165858, 0.58675101, 0.1267905 ,\n",
       "         0.47606142],\n",
       "        [0.95438132, 0.25879152, 0.01930437, 0.85910944, 0.92266813,\n",
       "         0.90524356]]])"
      ]
     },
     "execution_count": 33,
     "metadata": {},
     "output_type": "execute_result"
    }
   ],
   "source": [
    "np.random.rand(2,3 , 6)"
   ]
  },
  {
   "cell_type": "code",
   "execution_count": 35,
   "metadata": {},
   "outputs": [
    {
     "data": {
      "text/plain": [
       "array([[-0.70330751,  0.66135371, -0.69491636, -1.35494565, -2.09552667],\n",
       "       [ 2.11603036, -0.28221679, -0.30250965,  0.22626125, -1.51998283],\n",
       "       [-0.48912383,  0.32410279,  0.49808207, -0.3733867 ,  0.93219959],\n",
       "       [-2.28214659,  0.99827435, -0.27335071,  0.95619846, -1.87100109]])"
      ]
     },
     "execution_count": 35,
     "metadata": {},
     "output_type": "execute_result"
    }
   ],
   "source": [
    "mat = np.random.randn(4,5)\n",
    "mat"
   ]
  },
  {
   "cell_type": "markdown",
   "metadata": {},
   "source": [
    "## 5. Properties"
   ]
  },
  {
   "cell_type": "code",
   "execution_count": 12,
   "metadata": {},
   "outputs": [
    {
     "name": "stdout",
     "output_type": "stream",
     "text": [
      "<class 'numpy.ndarray'>\n",
      "20\n",
      "(4, 5)\n",
      "(2, 10)\n",
      "float64\n"
     ]
    }
   ],
   "source": [
    "print(type(mat))\n",
    "print(mat.size)\n",
    "print(mat.shape)\n",
    "print(mat.reshape(2,10).shape)\n",
    "print(mat.dtype)"
   ]
  },
  {
   "cell_type": "markdown",
   "metadata": {},
   "source": [
    "## 6. Bit Wise Operator"
   ]
  },
  {
   "cell_type": "code",
   "execution_count": 65,
   "metadata": {},
   "outputs": [
    {
     "name": "stdout",
     "output_type": "stream",
     "text": [
      "[0 0 0 1]\n",
      "[0 1 1 1]\n",
      "[0 1 1 0]\n",
      "[255 254 255 254]\n"
     ]
    }
   ],
   "source": [
    "x = np.array([0, 1, 0, 1], np.uint8)\n",
    "y = np.array([0, 0, 1, 1], np.uint8)\n",
    "\n",
    "print(np.bitwise_and(x, y))\n",
    "print(np.bitwise_or(x, y))\n",
    "print(np.bitwise_xor(x, y))\n",
    "print(np.bitwise_not(x))     # it is due to unit8"
   ]
  },
  {
   "cell_type": "markdown",
   "metadata": {},
   "source": [
    "## 7. Statistical Function"
   ]
  },
  {
   "cell_type": "code",
   "execution_count": 68,
   "metadata": {},
   "outputs": [
    {
     "name": "stdout",
     "output_type": "stream",
     "text": [
      "List:  [0 9 9 9 0 8 8 0 5 1]\n",
      "Median:  6.5\n",
      "Mean:  4.9\n",
      "Average:  4.9\n",
      "Standard Deviation:  3.961060464067672\n",
      "Variance:  15.690000000000001\n",
      "Histogram:  (array([3, 1, 0, 0, 0, 1, 0, 0, 2, 3]), array([0. , 0.9, 1.8, 2.7, 3.6, 4.5, 5.4, 6.3, 7.2, 8.1, 9. ]))\n"
     ]
    }
   ],
   "source": [
    "a = np.random.randint(low = 0, high = 10, size = 10)\n",
    "print(\"List: \", a)\n",
    "print(\"Median: \", np.median(a))\n",
    "print(\"Mean: \", np.mean(a))\n",
    "print(\"Average: \", np.average(a))\n",
    "print(\"Standard Deviation: \", np.std(a))\n",
    "print(\"Variance: \", np.var(a))\n",
    "print(\"Histogram: \", np.histogram(a))"
   ]
  },
  {
   "cell_type": "markdown",
   "metadata": {},
   "source": [
    "## 8. Trignomentric Functions"
   ]
  },
  {
   "cell_type": "code",
   "execution_count": 72,
   "metadata": {},
   "outputs": [
    {
     "name": "stdout",
     "output_type": "stream",
     "text": [
      "Sin:  [-1.2246468e-16  1.2246468e-16]\n",
      "Cos : [-1. -1.]\n",
      "Tan : [ 1.2246468e-16 -1.2246468e-16]\n",
      "Sinh : [-11.54873936  11.54873936]\n",
      "Cosh : [11.59195328 11.59195328]\n",
      "Tanh : [-0.99627208  0.99627208]\n",
      "Exponential : [ 0.04321392 23.14069263]\n",
      "Log : [       nan 1.14472989]\n"
     ]
    },
    {
     "name": "stderr",
     "output_type": "stream",
     "text": [
      "/home/hamza/anaconda3/lib/python3.7/site-packages/ipykernel_launcher.py:10: RuntimeWarning: invalid value encountered in log\n",
      "  # Remove the CWD from sys.path while we load stuff.\n"
     ]
    }
   ],
   "source": [
    "x = np.linspace(-np.pi, np.pi, 2)\n",
    "\n",
    "print(\"Sin: \", np.sin(x))\n",
    "print(\"Cos :\", np.cos(x))\n",
    "print(\"Tan :\", np.tan(x))\n",
    "print(\"Sinh :\", np.sinh(x))\n",
    "print(\"Cosh :\", np.cosh(x))\n",
    "print(\"Tanh :\", np.tanh(x))\n",
    "print(\"Exponential :\", np.exp(x))\n",
    "print(\"Log :\", np.log(x))"
   ]
  },
  {
   "cell_type": "markdown",
   "metadata": {},
   "source": [
    "## 9. Numpy writing and reading files"
   ]
  },
  {
   "cell_type": "markdown",
   "metadata": {},
   "source": [
    "### save & load .npy file"
   ]
  },
  {
   "cell_type": "code",
   "execution_count": null,
   "metadata": {},
   "outputs": [],
   "source": [
    "x = np.arange(100)\n",
    "np.save('test.npy', x)"
   ]
  },
  {
   "cell_type": "code",
   "execution_count": null,
   "metadata": {},
   "outputs": [],
   "source": [
    "data = np.load('test.npy')\n",
    "print(data)"
   ]
  },
  {
   "cell_type": "markdown",
   "metadata": {},
   "source": [
    "### Reading the data from a CSV file"
   ]
  },
  {
   "cell_type": "code",
   "execution_count": null,
   "metadata": {},
   "outputs": [],
   "source": [
    "data = np.loadtxt('data.csv', delimiter=',',\n",
    "                 skiprows=-1,\n",
    "                 usecols=[1, 3]) \n",
    "print(data)"
   ]
  }
 ],
 "metadata": {
  "kernelspec": {
   "display_name": "Python 3",
   "language": "python",
   "name": "python3"
  },
  "language_info": {
   "codemirror_mode": {
    "name": "ipython",
    "version": 3
   },
   "file_extension": ".py",
   "mimetype": "text/x-python",
   "name": "python",
   "nbconvert_exporter": "python",
   "pygments_lexer": "ipython3",
   "version": "3.7.4"
  }
 },
 "nbformat": 4,
 "nbformat_minor": 2
}
