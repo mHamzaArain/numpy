{
 "cells": [
  {
   "cell_type": "markdown",
   "metadata": {},
   "source": [
    "## Array Manipulation Routines\n",
    "Functions are: \n",
    "1. np.ravel()<br />\n",
    "2. np.flatten()/flatten(\"C\") & np.flatten(\"F\")<br />\n",
    "3. np.stack(), np.dstack(), np.hstack() & np.vstack()<br />\n",
    "4. np.split(), np.dsplit(), np.hsplit() & np.vsplit()<br />\n",
    "5. np.flip(), np.fliplr() & np.flipud()<br />\n",
    "6. np.roll()<br />\n",
    "7. np.rot90()<br />"
   ]
  },
  {
   "cell_type": "code",
   "execution_count": 1,
   "metadata": {},
   "outputs": [
    {
     "name": "stdout",
     "output_type": "stream",
     "text": [
      "(3, 2)\n",
      "[[0 1]\n",
      " [2 3]\n",
      " [4 5]]\n"
     ]
    }
   ],
   "source": [
    "import numpy as np\n",
    "x = np.arange(6)      # [0 1 2 3 4 5]\n",
    "y = x.reshape((3, 2)) # row=3, col=2\n",
    "print(y.shape)        # (3, 2)\n",
    "print(y)"
   ]
  },
  {
   "cell_type": "code",
   "execution_count": 2,
   "metadata": {},
   "outputs": [
    {
     "name": "stdout",
     "output_type": "stream",
     "text": [
      "[0 1 2 3 4 5]\n"
     ]
    }
   ],
   "source": [
    "# np.ravel() > To convert dimensional array to linear array\n",
    "ravel = np.ravel(y)\n",
    "print(ravel)"
   ]
  },
  {
   "cell_type": "code",
   "execution_count": 3,
   "metadata": {},
   "outputs": [
    {
     "name": "stdout",
     "output_type": "stream",
     "text": [
      "[0 1 2 3 4 5]\n",
      "[0 1 2 3 4 5]\n",
      "[0 2 4 1 3 5]\n"
     ]
    }
   ],
   "source": [
    "# np.flatten() > To convert dimensional array to linear array \n",
    "## Coulmn wise\n",
    "flatten = y.flatten()       # Col wise: [0 1 2 3 4 5]\n",
    "print(flatten)\n",
    "\n",
    "flatten_C = y.flatten('C')  # Col wise: [0 1 2 3 4 5]\n",
    "print(flatten_C)\n",
    "\n",
    "## Row wise\n",
    "flatten_F = y.flatten('F')  # row wise: [0 2 4 1 3 5]\n",
    "print(flatten_F)"
   ]
  },
  {
   "cell_type": "code",
   "execution_count": 4,
   "metadata": {},
   "outputs": [
    {
     "name": "stdout",
     "output_type": "stream",
     "text": [
      "uint8\n",
      "[1 2 3]\n",
      "[4 5 6]\n"
     ]
    }
   ],
   "source": [
    "x = np.array([1, 2, 3], dtype = np.uint8)\n",
    "y = np.array([4, 5, 6], dtype = np.uint8)\n",
    "\n",
    "print(x.dtype)\n",
    "print(x)\n",
    "print(y)"
   ]
  },
  {
   "cell_type": "code",
   "execution_count": 5,
   "metadata": {},
   "outputs": [
    {
     "name": "stdout",
     "output_type": "stream",
     "text": [
      "[[1 2 3]\n",
      " [4 5 6]]\n",
      "[[1 2 3]\n",
      " [4 5 6]]\n",
      "[[1 4]\n",
      " [2 5]\n",
      " [3 6]]\n",
      "[[1 4]\n",
      " [2 5]\n",
      " [3 6]]\n",
      "[[[1 4]\n",
      "  [2 5]\n",
      "  [3 6]]]\n",
      "[1 2 3 4 5 6]\n",
      "[[1 2 3]\n",
      " [4 5 6]]\n"
     ]
    }
   ],
   "source": [
    "# np.stack()/np.dstack() > combine two arrays in one \n",
    "z = np.stack((x, y))             # [[1 2 3]\n",
    "                                 #  [4 5 6]]\n",
    "print(z)\n",
    "\n",
    "z = np.stack((x, y), axis = 0 )  # axis=0 > [[1 2 3]\n",
    "                                 #          [4 5 6]]\n",
    "print(z)\n",
    "\n",
    "z = np.stack((x, y), axis = -1 ) # axis=-1 > [[1 4]\n",
    "                                 #            [2 5]\n",
    "                                 #            [3 6]]\n",
    "print(z)\n",
    "\n",
    "z = np.stack((x, y), axis = 1 )  # axis=-1 > [[1 4]\n",
    "                                 #            [2 5]\n",
    "                                 #            [3 6]]\n",
    "print(z)\n",
    "\n",
    "z = np.dstack((x, y))            # [[[1 4]\n",
    "                                 #   [2 5]\n",
    "                                 #   [3 6]]]\n",
    "print(z)\n",
    "\n",
    "z = np.hstack((x, y))            # [1 2 3 4 5 6]\n",
    "print(z)\n",
    "\n",
    "z = np.vstack((x, y))            # [[1 2 3]\n",
    "                                 #  [4 5 6]]\n",
    "print(z)"
   ]
  },
  {
   "cell_type": "markdown",
   "metadata": {},
   "source": [
    "## np.split()"
   ]
  },
  {
   "cell_type": "code",
   "execution_count": 6,
   "metadata": {},
   "outputs": [
    {
     "name": "stdout",
     "output_type": "stream",
     "text": [
      "[1] [2] [3]\n"
     ]
    }
   ],
   "source": [
    "a, b, c = np.split(x,  # [1 2 3]\n",
    "                   3)  # split into 3\n",
    "print(a, b, c)         # [1] [2] [3]"
   ]
  },
  {
   "cell_type": "code",
   "execution_count": 7,
   "metadata": {},
   "outputs": [
    {
     "data": {
      "text/plain": [
       "array([[[0.8541787 , 0.95817299, 0.11092703, 0.90230796],\n",
       "        [0.50226783, 0.32481451, 0.37543635, 0.2307954 ],\n",
       "        [0.25186099, 0.54422933, 0.9011475 , 0.28261784],\n",
       "        [0.20618826, 0.54503747, 0.36584466, 0.80442579]],\n",
       "\n",
       "       [[0.99714308, 0.81719727, 0.17737302, 0.06525877],\n",
       "        [0.01500599, 0.22670109, 0.01106125, 0.42209787],\n",
       "        [0.30184581, 0.92231715, 0.36480684, 0.45107646],\n",
       "        [0.52462818, 0.96867221, 0.80055663, 0.7049133 ]],\n",
       "\n",
       "       [[0.57872717, 0.85529725, 0.28583246, 0.85765012],\n",
       "        [0.10978369, 0.68599992, 0.56733679, 0.17915801],\n",
       "        [0.6832516 , 0.22851328, 0.64982675, 0.37402114],\n",
       "        [0.86189587, 0.36155383, 0.54626441, 0.7148616 ]],\n",
       "\n",
       "       [[0.19792075, 0.88830444, 0.36541298, 0.7126212 ],\n",
       "        [0.62587055, 0.10069366, 0.11956534, 0.28347802],\n",
       "        [0.11780144, 0.56065292, 0.35162808, 0.41615162],\n",
       "        [0.21301364, 0.68178097, 0.46357436, 0.61059641]]])"
      ]
     },
     "execution_count": 7,
     "metadata": {},
     "output_type": "execute_result"
    }
   ],
   "source": [
    "x = np.random.rand(4, 4, 4)\n",
    "x"
   ]
  },
  {
   "cell_type": "code",
   "execution_count": 8,
   "metadata": {},
   "outputs": [
    {
     "name": "stdout",
     "output_type": "stream",
     "text": [
      "[[[0.8541787  0.95817299]\n",
      "  [0.50226783 0.32481451]\n",
      "  [0.25186099 0.54422933]\n",
      "  [0.20618826 0.54503747]]\n",
      "\n",
      " [[0.99714308 0.81719727]\n",
      "  [0.01500599 0.22670109]\n",
      "  [0.30184581 0.92231715]\n",
      "  [0.52462818 0.96867221]]\n",
      "\n",
      " [[0.57872717 0.85529725]\n",
      "  [0.10978369 0.68599992]\n",
      "  [0.6832516  0.22851328]\n",
      "  [0.86189587 0.36155383]]\n",
      "\n",
      " [[0.19792075 0.88830444]\n",
      "  [0.62587055 0.10069366]\n",
      "  [0.11780144 0.56065292]\n",
      "  [0.21301364 0.68178097]]] [[[0.11092703 0.90230796]\n",
      "  [0.37543635 0.2307954 ]\n",
      "  [0.9011475  0.28261784]\n",
      "  [0.36584466 0.80442579]]\n",
      "\n",
      " [[0.17737302 0.06525877]\n",
      "  [0.01106125 0.42209787]\n",
      "  [0.36480684 0.45107646]\n",
      "  [0.80055663 0.7049133 ]]\n",
      "\n",
      " [[0.28583246 0.85765012]\n",
      "  [0.56733679 0.17915801]\n",
      "  [0.64982675 0.37402114]\n",
      "  [0.54626441 0.7148616 ]]\n",
      "\n",
      " [[0.36541298 0.7126212 ]\n",
      "  [0.11956534 0.28347802]\n",
      "  [0.35162808 0.41615162]\n",
      "  [0.46357436 0.61059641]]]\n"
     ]
    }
   ],
   "source": [
    "y, z = np.dsplit(x, 2)\n",
    "print(y, z)"
   ]
  },
  {
   "cell_type": "code",
   "execution_count": 9,
   "metadata": {},
   "outputs": [
    {
     "name": "stdout",
     "output_type": "stream",
     "text": [
      "[[[0.8541787  0.95817299 0.11092703 0.90230796]\n",
      "  [0.50226783 0.32481451 0.37543635 0.2307954 ]]\n",
      "\n",
      " [[0.99714308 0.81719727 0.17737302 0.06525877]\n",
      "  [0.01500599 0.22670109 0.01106125 0.42209787]]\n",
      "\n",
      " [[0.57872717 0.85529725 0.28583246 0.85765012]\n",
      "  [0.10978369 0.68599992 0.56733679 0.17915801]]\n",
      "\n",
      " [[0.19792075 0.88830444 0.36541298 0.7126212 ]\n",
      "  [0.62587055 0.10069366 0.11956534 0.28347802]]] [[[0.25186099 0.54422933 0.9011475  0.28261784]\n",
      "  [0.20618826 0.54503747 0.36584466 0.80442579]]\n",
      "\n",
      " [[0.30184581 0.92231715 0.36480684 0.45107646]\n",
      "  [0.52462818 0.96867221 0.80055663 0.7049133 ]]\n",
      "\n",
      " [[0.6832516  0.22851328 0.64982675 0.37402114]\n",
      "  [0.86189587 0.36155383 0.54626441 0.7148616 ]]\n",
      "\n",
      " [[0.11780144 0.56065292 0.35162808 0.41615162]\n",
      "  [0.21301364 0.68178097 0.46357436 0.61059641]]]\n"
     ]
    }
   ],
   "source": [
    "y, z = np.hsplit(x, 2)\n",
    "print(y, z)"
   ]
  },
  {
   "cell_type": "code",
   "execution_count": 10,
   "metadata": {},
   "outputs": [
    {
     "name": "stdout",
     "output_type": "stream",
     "text": [
      "[[[0.8541787  0.95817299 0.11092703 0.90230796]\n",
      "  [0.50226783 0.32481451 0.37543635 0.2307954 ]\n",
      "  [0.25186099 0.54422933 0.9011475  0.28261784]\n",
      "  [0.20618826 0.54503747 0.36584466 0.80442579]]\n",
      "\n",
      " [[0.99714308 0.81719727 0.17737302 0.06525877]\n",
      "  [0.01500599 0.22670109 0.01106125 0.42209787]\n",
      "  [0.30184581 0.92231715 0.36480684 0.45107646]\n",
      "  [0.52462818 0.96867221 0.80055663 0.7049133 ]]] [[[0.57872717 0.85529725 0.28583246 0.85765012]\n",
      "  [0.10978369 0.68599992 0.56733679 0.17915801]\n",
      "  [0.6832516  0.22851328 0.64982675 0.37402114]\n",
      "  [0.86189587 0.36155383 0.54626441 0.7148616 ]]\n",
      "\n",
      " [[0.19792075 0.88830444 0.36541298 0.7126212 ]\n",
      "  [0.62587055 0.10069366 0.11956534 0.28347802]\n",
      "  [0.11780144 0.56065292 0.35162808 0.41615162]\n",
      "  [0.21301364 0.68178097 0.46357436 0.61059641]]]\n"
     ]
    }
   ],
   "source": [
    "y, z = np.vsplit(x, 2)\n",
    "print(y, z)"
   ]
  },
  {
   "cell_type": "code",
   "execution_count": 11,
   "metadata": {},
   "outputs": [
    {
     "name": "stdout",
     "output_type": "stream",
     "text": [
      "[[ 0  1  2  3]\n",
      " [ 4  5  6  7]\n",
      " [ 8  9 10 11]\n",
      " [12 13 14 15]]\n"
     ]
    }
   ],
   "source": [
    "# np.flip() >  To rotate\n",
    "x = np.arange(16).reshape(4, 4)\n",
    "print(x)"
   ]
  },
  {
   "cell_type": "code",
   "execution_count": 12,
   "metadata": {},
   "outputs": [
    {
     "name": "stdout",
     "output_type": "stream",
     "text": [
      "[[ 3  2  1  0]\n",
      " [ 7  6  5  4]\n",
      " [11 10  9  8]\n",
      " [15 14 13 12]]\n"
     ]
    }
   ],
   "source": [
    "y = np.flip(x, axis = 1)\n",
    "print(y)"
   ]
  },
  {
   "cell_type": "code",
   "execution_count": 13,
   "metadata": {},
   "outputs": [
    {
     "name": "stdout",
     "output_type": "stream",
     "text": [
      "[[12 13 14 15]\n",
      " [ 8  9 10 11]\n",
      " [ 4  5  6  7]\n",
      " [ 0  1  2  3]]\n"
     ]
    }
   ],
   "source": [
    "y = np.flip(x, axis = 0)\n",
    "print(y)"
   ]
  },
  {
   "cell_type": "code",
   "execution_count": 14,
   "metadata": {},
   "outputs": [
    {
     "name": "stdout",
     "output_type": "stream",
     "text": [
      "[[ 3  2  1  0]\n",
      " [ 7  6  5  4]\n",
      " [11 10  9  8]\n",
      " [15 14 13 12]]\n"
     ]
    }
   ],
   "source": [
    "y = np.flip(x, axis = -1)\n",
    "print(y)"
   ]
  },
  {
   "cell_type": "code",
   "execution_count": 15,
   "metadata": {},
   "outputs": [
    {
     "name": "stdout",
     "output_type": "stream",
     "text": [
      "[[ 0  1  2  3]\n",
      " [ 4  5  6  7]\n",
      " [ 8  9 10 11]\n",
      " [12 13 14 15]]\n",
      "[[ 3  2  1  0]\n",
      " [ 7  6  5  4]\n",
      " [11 10  9  8]\n",
      " [15 14 13 12]]\n"
     ]
    }
   ],
   "source": [
    "y = np.fliplr(x)\n",
    "print(x)\n",
    "print(y)"
   ]
  },
  {
   "cell_type": "code",
   "execution_count": 16,
   "metadata": {},
   "outputs": [
    {
     "name": "stdout",
     "output_type": "stream",
     "text": [
      "[[ 0  1  2  3]\n",
      " [ 4  5  6  7]\n",
      " [ 8  9 10 11]\n",
      " [12 13 14 15]]\n",
      "[[12 13 14 15]\n",
      " [ 8  9 10 11]\n",
      " [ 4  5  6  7]\n",
      " [ 0  1  2  3]]\n"
     ]
    }
   ],
   "source": [
    "y = np.flipud(x)\n",
    "print(x)\n",
    "print(y)"
   ]
  },
  {
   "cell_type": "code",
   "execution_count": 17,
   "metadata": {},
   "outputs": [
    {
     "name": "stdout",
     "output_type": "stream",
     "text": [
      "[[ 0  1  2  3]\n",
      " [ 4  5  6  7]\n",
      " [ 8  9 10 11]\n",
      " [12 13 14 15]]\n",
      "[[ 8  9 10 11]\n",
      " [12 13 14 15]\n",
      " [ 0  1  2  3]\n",
      " [ 4  5  6  7]]\n"
     ]
    }
   ],
   "source": [
    "# np.roll() > 1st 8 elements to last & last 8 elements to 1st place\n",
    "y = np.roll(x, 8)\n",
    "print(x)\n",
    "print(y)"
   ]
  },
  {
   "cell_type": "code",
   "execution_count": 18,
   "metadata": {},
   "outputs": [
    {
     "name": "stdout",
     "output_type": "stream",
     "text": [
      "[[ 0  1  2  3]\n",
      " [ 4  5  6  7]\n",
      " [ 8  9 10 11]\n",
      " [12 13 14 15]]\n",
      "[[ 3  7 11 15]\n",
      " [ 2  6 10 14]\n",
      " [ 1  5  9 13]\n",
      " [ 0  4  8 12]]\n"
     ]
    }
   ],
   "source": [
    "# Rotate anti-clockwise 90 degree\n",
    "y = np.rot90(x)\n",
    "print(x)\n",
    "print(y)"
   ]
  }
 ],
 "metadata": {
  "kernelspec": {
   "display_name": "Python 3",
   "language": "python",
   "name": "python3"
  },
  "language_info": {
   "codemirror_mode": {
    "name": "ipython",
    "version": 3
   },
   "file_extension": ".py",
   "mimetype": "text/x-python",
   "name": "python",
   "nbconvert_exporter": "python",
   "pygments_lexer": "ipython3",
   "version": "3.7.4"
  }
 },
 "nbformat": 4,
 "nbformat_minor": 2
}
