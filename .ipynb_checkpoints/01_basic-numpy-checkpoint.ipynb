{
 "cells": [
  {
   "cell_type": "markdown",
   "metadata": {},
   "source": [
    "# Numpy\n",
    "## Part 1: Basic Numpy array\n",
    "##### 1. Defining Arrays\n",
    "##### 2. Printing array\n",
    "Through printing & looping\n",
    "##### 3. Accessing element in array\n",
    "##### 4. Indexing/Slicing elements in array\n",
    "##### 5. NumPy Ndarray Properties\n",
    "##### 6. NumPy Constants"
   ]
  },
  {
   "cell_type": "code",
   "execution_count": 1,
   "metadata": {},
   "outputs": [],
   "source": [
    "import numpy as np"
   ]
  },
  {
   "cell_type": "markdown",
   "metadata": {},
   "source": [
    "## 1. Defining arrays"
   ]
  },
  {
   "cell_type": "code",
   "execution_count": 2,
   "metadata": {},
   "outputs": [],
   "source": [
    "# Defining arrays\n",
    "array_1d = np.array([1, 2, 3], np.int16)  # 1D array of 16-bit int type\n",
    "array_2d = np.array([[1, 2, 3], [4, 5, 6]], np.int16)   # 2D array of 16-bit int type\n",
    "array_3d = np.array([[[1, 2, 3], [4, 5, 6]],[[0, -1, -2], [-3, -4, -5]]], np.int16)   # 3D array of 16-bit int type "
   ]
  },
  {
   "cell_type": "markdown",
   "metadata": {},
   "source": [
    "## 2. Printing array"
   ]
  },
  {
   "cell_type": "code",
   "execution_count": 3,
   "metadata": {},
   "outputs": [
    {
     "name": "stdout",
     "output_type": "stream",
     "text": [
      "\n",
      "1D Array:  [1 2 3]\n",
      "\n",
      "2D Array:  [[1 2 3]\n",
      " [4 5 6]]\n",
      "\n",
      "3D Array:  [[[ 1  2  3]\n",
      "  [ 4  5  6]]\n",
      "\n",
      " [[ 0 -1 -2]\n",
      "  [-3 -4 -5]]]\n"
     ]
    },
    {
     "data": {
      "text/plain": [
       "[[[1, 2, 3], [4, 5, 6]], [[0, -1, -2], [-3, -4, -5]]]"
      ]
     },
     "execution_count": 3,
     "metadata": {},
     "output_type": "execute_result"
    }
   ],
   "source": [
    "# Printing Array\n",
    "print(\"\\n1D Array: \", array_1d)  # [1 2 3]\n",
    "print(\"\\n2D Array: \", array_2d)  # [ [1 2 3] [4 5 6] ]\n",
    "print(\"\\n3D Array: \", array_3d)  # [ [ [1 2 3][ 4 5 6] ]  [ [0 -1 -2][-3 -4 -5] ] ] \n",
    "\n",
    "# # Print array in loop\n",
    "[item for item in array_1d]  # 1, 2, 3,\n",
    "[[item for item in subarray] for subarray in array_2d] # 1, 2, 3, 4, 5, 6,\n",
    "[[[item for item in array1d] for array1d in array2d] for array2d in array_3d]  # 1, 2, 3, 4, 5, 6, 0, -1, -2, -3, -4, -5,"
   ]
  },
  {
   "cell_type": "markdown",
   "metadata": {},
   "source": [
    "## 3. Accessing element in array"
   ]
  },
  {
   "cell_type": "code",
   "execution_count": 4,
   "metadata": {
    "scrolled": true
   },
   "outputs": [
    {
     "name": "stdout",
     "output_type": "stream",
     "text": [
      "1\n",
      "3\n",
      "2\n",
      "6\n"
     ]
    }
   ],
   "source": [
    "# Accessing element in array\n",
    "print(array_1d[0])        # 1 1st ele\n",
    "print(array_1d[-1])       # 3 last ele\n",
    "print(array_2d[0][1])     # 2 row=0, col=1\n",
    "print(array_3d[0][1][2])  # 6 row=0, col=1, 3rd ele"
   ]
  },
  {
   "cell_type": "markdown",
   "metadata": {},
   "source": [
    "## 4. Indexing/Slicing elements in array"
   ]
  },
  {
   "cell_type": "code",
   "execution_count": 5,
   "metadata": {},
   "outputs": [
    {
     "name": "stdout",
     "output_type": "stream",
     "text": [
      "[1 2]\n",
      "[1 2 3]\n",
      "[1 2 3]\n",
      "[[ 1  4]\n",
      " [ 0 -3]]\n"
     ]
    }
   ],
   "source": [
    "# Slicing/indexing elements in array\n",
    "\n",
    "# 1d indexing\n",
    "print(array_1d[:2])  # [1 2]\n",
    "print(array_1d[:])   # [1 2 3]\n",
    "\n",
    "# 2d Indexing\n",
    "print(array_2d[0, :]) # row=0, col=-1 > [1 2 3]\n",
    "\n",
    "# 3d indexing\n",
    "print(array_3d[:, :, 0])   # row=-1, col=-1, ele= 0th > [[ 1  4][ 0 -3]]"
   ]
  },
  {
   "cell_type": "code",
   "execution_count": 6,
   "metadata": {},
   "outputs": [
    {
     "name": "stdout",
     "output_type": "stream",
     "text": [
      "<class 'numpy.ndarray'>\n"
     ]
    }
   ],
   "source": [
    "# Numpy array obj type\n",
    "print(type(array_1d))"
   ]
  },
  {
   "cell_type": "markdown",
   "metadata": {},
   "source": [
    "##  5. NumPy Ndarray Properties"
   ]
  },
  {
   "cell_type": "markdown",
   "metadata": {},
   "source": [
    "print(array_3d.shape)        # array shape > (2, 2, 3)\n",
    "print(array_3d.ndim)         # no. of dimension > 3\n",
    "print(array_3d.dtype)        # np.array type > int16\n",
    "print(array_3d.size)         # total elements in array > 12\n",
    "print(array_3d.nbytes)       # 8x2(int16) x 12 = 24 bytes"
   ]
  },
  {
   "cell_type": "code",
   "execution_count": 7,
   "metadata": {},
   "outputs": [
    {
     "name": "stdout",
     "output_type": "stream",
     "text": [
      "[[1 2 3]\n",
      " [4 5 6]]\n",
      "\n",
      "[[1 4]\n",
      " [2 5]\n",
      " [3 6]]\n"
     ]
    }
   ],
   "source": [
    "# Transpose of matrix\n",
    "print(array_2d)\n",
    "print()\n",
    "print(array_2d.T)"
   ]
  },
  {
   "cell_type": "markdown",
   "metadata": {},
   "source": [
    "## 6. NumPy Constants"
   ]
  },
  {
   "cell_type": "code",
   "execution_count": 8,
   "metadata": {},
   "outputs": [
    {
     "name": "stdout",
     "output_type": "stream",
     "text": [
      "inf\n",
      "nan\n",
      "-inf\n",
      "-0.0\n",
      "0.0\n",
      "2.718281828459045\n",
      "0.5772156649015329\n",
      "3.141592653589793\n"
     ]
    }
   ],
   "source": [
    "print(np.inf)     # +ve infinity\n",
    "print(np.nan)     # not a number\n",
    "print(np.NINF)    # -ve infinity\n",
    "print(np.NZERO)   # -ve zero\n",
    "print(np.PZERO)   # +ve zero\n",
    "print(np.e)       # natutral logarithm > 2.718281828459045\n",
    "print(np.euler_gamma)  # 0.5772156649015329\n",
    "print(np.pi)      # pi 3.141592653589793"
   ]
  },
  {
   "cell_type": "code",
   "execution_count": 9,
   "metadata": {},
   "outputs": [
    {
     "name": "stdout",
     "output_type": "stream",
     "text": [
      "[0 1 2 3 4]\n"
     ]
    }
   ],
   "source": [
    "# np.arange() > [0 1 2 3 4]\n",
    "arange = np.arange(5)\n",
    "print(arange)"
   ]
  },
  {
   "cell_type": "code",
   "execution_count": 10,
   "metadata": {},
   "outputs": [
    {
     "name": "stdout",
     "output_type": "stream",
     "text": [
      "[ 0.  1.  2.  3.  4.  5.  6.  7.  8.  9. 10.]\n"
     ]
    }
   ],
   "source": [
    "# np.linespace() > [ 0.  1.  2.  3.  4.  5.  6.  7.  8.  9. 10.]\n",
    "linespace = np.linspace(0, 10, 11)\n",
    "print(linespace)"
   ]
  },
  {
   "cell_type": "code",
   "execution_count": 11,
   "metadata": {},
   "outputs": [
    {
     "name": "stdout",
     "output_type": "stream",
     "text": [
      "[1.00000000e-01 2.51188643e-01 6.30957344e-01 1.58489319e+00\n",
      " 3.98107171e+00 1.00000000e+01 2.51188643e+01 6.30957344e+01\n",
      " 1.58489319e+02 3.98107171e+02 1.00000000e+03]\n"
     ]
    }
   ],
   "source": [
    "# np.geimsapce()  > values from 0.1 to 1000 contain in array of size of 11 \n",
    "y = np.geomspace(0.1, 1000, 11)\n",
    "print(y)"
   ]
  },
  {
   "cell_type": "code",
   "execution_count": 12,
   "metadata": {},
   "outputs": [
    {
     "name": "stdout",
     "output_type": "stream",
     "text": [
      "[ 1.25892541  1.54881662  1.90546072  2.34422882  2.8840315   3.54813389\n",
      "  4.36515832  5.37031796  6.60693448  8.12830516 10.        ]\n"
     ]
    }
   ],
   "source": [
    "# logspace() > 0.1 to 1 contain in array of size of 11 \n",
    "y = np.logspace(0.1, 1, 11)\n",
    "print(y)"
   ]
  },
  {
   "cell_type": "code",
   "execution_count": null,
   "metadata": {},
   "outputs": [],
   "source": []
  }
 ],
 "metadata": {
  "kernelspec": {
   "display_name": "Python 3",
   "language": "python",
   "name": "python3"
  },
  "language_info": {
   "codemirror_mode": {
    "name": "ipython",
    "version": 3
   },
   "file_extension": ".py",
   "mimetype": "text/x-python",
   "name": "python",
   "nbconvert_exporter": "python",
   "pygments_lexer": "ipython3",
   "version": "3.7.4"
  }
 },
 "nbformat": 4,
 "nbformat_minor": 2
}
