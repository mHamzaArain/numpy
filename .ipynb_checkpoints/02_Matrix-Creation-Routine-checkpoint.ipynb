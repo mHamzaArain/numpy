{
 "cells": [
  {
   "cell_type": "markdown",
   "metadata": {},
   "source": [
    "## Part 2: Matrix creation routines\n",
    "Functions are: \n",
    "1. np.empty()<br />\n",
    "2. np.eye()<br />\n",
    "3. np.identity()<br />\n",
    "4. np.ones()<br />\n",
    "5. np.zeros()<br />\n",
    "6. np.full()<br />\n",
    "7. np.tri()<br />\n",
    "8. np.tril()<br />\n",
    "9. np.triu()<br />"
   ]
  },
  {
   "cell_type": "code",
   "execution_count": 2,
   "metadata": {},
   "outputs": [],
   "source": [
    "import numpy as np"
   ]
  },
  {
   "cell_type": "code",
   "execution_count": 3,
   "metadata": {},
   "outputs": [
    {
     "name": "stdout",
     "output_type": "stream",
     "text": [
      "[[  0  15 141]\n",
      " [208  70 127]\n",
      " [  0   0  59]]\n"
     ]
    }
   ],
   "source": [
    "# 1. np.empty() function\n",
    "empty = np.empty([3, 3], np.uint8) # Random Values in array\n",
    "print(empty)"
   ]
  },
  {
   "cell_type": "code",
   "execution_count": 4,
   "metadata": {},
   "outputs": [
    {
     "name": "stdout",
     "output_type": "stream",
     "text": [
      "[[1 0 0 0 0]\n",
      " [0 1 0 0 0]\n",
      " [0 0 1 0 0]\n",
      " [0 0 0 1 0]\n",
      " [0 0 0 0 1]] \n",
      "\n",
      "[[0 1 0 0 0]\n",
      " [0 0 1 0 0]\n",
      " [0 0 0 1 0]\n",
      " [0 0 0 0 1]\n",
      " [0 0 0 0 0]] \n",
      "\n",
      "[[0 0 0 0 0]\n",
      " [1 0 0 0 0]\n",
      " [0 1 0 0 0]\n",
      " [0 0 1 0 0]\n",
      " [0 0 0 1 0]] \n",
      "\n"
     ]
    }
   ],
   "source": [
    "# 2. np.eye function\n",
    "eye_k_0 = np.eye(5, dtype=np.uint8, k=0)  # k = 0 (By default)\n",
    "print(eye_k_0, \"\\n\")\n",
    "\n",
    "eye_k_1 = np.eye(5, dtype=np.uint8, k=1)  # k = 1\n",
    "print(eye_k_1, \"\\n\")\n",
    "\n",
    "eye_k_minus_1 = np.eye(5, dtype=np.uint8, k=-1)  # K= -1\n",
    "print(eye_k_minus_1, \"\\n\")"
   ]
  },
  {
   "cell_type": "code",
   "execution_count": 5,
   "metadata": {},
   "outputs": [
    {
     "name": "stdout",
     "output_type": "stream",
     "text": [
      "[[1 0 0 0 0]\n",
      " [0 1 0 0 0]\n",
      " [0 0 1 0 0]\n",
      " [0 0 0 1 0]\n",
      " [0 0 0 0 1]]\n"
     ]
    }
   ],
   "source": [
    "# 3. np.identity() function\n",
    "identity = np.identity(5, dtype= np.uint8)\n",
    "print(identity)"
   ]
  },
  {
   "cell_type": "code",
   "execution_count": 6,
   "metadata": {},
   "outputs": [
    {
     "name": "stdout",
     "output_type": "stream",
     "text": [
      "[[[1 1]\n",
      "  [1 1]]\n",
      "\n",
      " [[1 1]\n",
      "  [1 1]]]\n",
      "[[[0 0]\n",
      "  [0 0]]\n",
      "\n",
      " [[0 0]\n",
      "  [0 0]]]\n"
     ]
    }
   ],
   "source": [
    "# 4. np.ones() function > fill all indexes with 1 \n",
    "ones = np.ones((2, 2, 2), dtype=np.int16)\n",
    "print(ones)\n",
    "\n",
    "# 5. np.zeros() function > fill all indexes with 0\n",
    "zeros = np.zeros((2, 2, 2), dtype=np.int16)\n",
    "print(zeros)"
   ]
  },
  {
   "cell_type": "code",
   "execution_count": 7,
   "metadata": {},
   "outputs": [
    {
     "name": "stdout",
     "output_type": "stream",
     "text": [
      "[[[5 5 5]\n",
      "  [5 5 5]\n",
      "  [5 5 5]]\n",
      "\n",
      " [[5 5 5]\n",
      "  [5 5 5]\n",
      "  [5 5 5]]\n",
      "\n",
      " [[5 5 5]\n",
      "  [5 5 5]\n",
      "  [5 5 5]]]\n"
     ]
    }
   ],
   "source": [
    "# 6. np.fill() function > Fill all indexes by value \n",
    "full_fill = np.full((3, 3, 3), dtype=np.int16, fill_value = 5)\n",
    "print(full_fill)"
   ]
  },
  {
   "cell_type": "code",
   "execution_count": 8,
   "metadata": {},
   "outputs": [
    {
     "name": "stdout",
     "output_type": "stream",
     "text": [
      "[[1 0 0 0 0]\n",
      " [1 1 0 0 0]\n",
      " [1 1 1 0 0]\n",
      " [1 1 1 1 0]\n",
      " [1 1 1 1 1]] \n",
      "\n",
      "[[1 1 0 0 0]\n",
      " [1 1 1 0 0]\n",
      " [1 1 1 1 0]\n",
      " [1 1 1 1 1]\n",
      " [1 1 1 1 1]] \n",
      "\n",
      "[[0 0 0 0 0]\n",
      " [1 0 0 0 0]\n",
      " [1 1 0 0 0]\n",
      " [1 1 1 0 0]\n",
      " [1 1 1 1 0]]\n"
     ]
    }
   ],
   "source": [
    "# 7. np.tri() function > triangular \n",
    "triangular_array_k_0 = np.tri(5, 5, k=0, dtype=np.uint16)  # k = 0\n",
    "print(triangular_array_k_0, \"\\n\")\n",
    "\n",
    "triangular_array_k_1 = np.tri(5, 5, k=1, dtype=np.uint16)  # k = 1\n",
    "print(triangular_array_k_1, '\\n')\n",
    "\n",
    "triangular_array_k_minus_1 = np.tri(5, 5, k=-1, dtype=np.uint16) # k = -1\n",
    "print(triangular_array_k_minus_1)"
   ]
  },
  {
   "cell_type": "code",
   "execution_count": 9,
   "metadata": {},
   "outputs": [
    {
     "name": "stdout",
     "output_type": "stream",
     "text": [
      "[[1 0 0 0 0]\n",
      " [1 1 0 0 0]\n",
      " [1 1 1 0 0]\n",
      " [1 1 1 1 0]\n",
      " [1 1 1 1 1]] \n",
      "\n",
      "[[1 1 0 0 0]\n",
      " [1 1 1 0 0]\n",
      " [1 1 1 1 0]\n",
      " [1 1 1 1 1]\n",
      " [1 1 1 1 1]] \n",
      "\n",
      "[[0 0 0 0 0]\n",
      " [1 0 0 0 0]\n",
      " [1 1 0 0 0]\n",
      " [1 1 1 0 0]\n",
      " [1 1 1 1 0]] \n",
      "\n"
     ]
    }
   ],
   "source": [
    "# 8. np.tril() > Triangular lower\n",
    "x = np.ones((5, 5), dtype=np.uint8)\n",
    "\n",
    "trainglar_lower_k_0 = np.tril(x, k=0)  # k = 0 \n",
    "print(trainglar_lower_k_0, '\\n')\n",
    "\n",
    "trainglar_lower_k_1 = np.tril(x, k=1) # k = 1\n",
    "print(trainglar_lower_k_1, '\\n')\n",
    "\n",
    "trainglar_lower_k_minus_1 = np.tril(x, k=-1) # k = -1\n",
    "print(trainglar_lower_k_minus_1, '\\n')"
   ]
  },
  {
   "cell_type": "code",
   "execution_count": 10,
   "metadata": {},
   "outputs": [
    {
     "name": "stdout",
     "output_type": "stream",
     "text": [
      "[[1 1 1 1 1]\n",
      " [0 1 1 1 1]\n",
      " [0 0 1 1 1]\n",
      " [0 0 0 1 1]\n",
      " [0 0 0 0 1]] \n",
      "\n",
      "[[0 1 1 1 1]\n",
      " [0 0 1 1 1]\n",
      " [0 0 0 1 1]\n",
      " [0 0 0 0 1]\n",
      " [0 0 0 0 0]] \n",
      "\n",
      "[[1 1 1 1 1]\n",
      " [1 1 1 1 1]\n",
      " [0 1 1 1 1]\n",
      " [0 0 1 1 1]\n",
      " [0 0 0 1 1]] \n",
      "\n"
     ]
    }
   ],
   "source": [
    "# 9. np.triu() > Triangular upper\n",
    "x = np.ones((5, 5), dtype=np.uint8)\n",
    "\n",
    "triangular_upper_k_0 = np.triu(x, k=0)        # k = 0\n",
    "print(triangular_upper_k_0, '\\n')\n",
    "\n",
    "triangular_upper_k_1 = np.triu(x, k=1)        # k = 1\n",
    "print(triangular_upper_k_1, '\\n')\n",
    "\n",
    "triangular_upper_k_minus_1 = np.triu(x, k=-1) # k = -1\n",
    "print(triangular_upper_k_minus_1, '\\n')"
   ]
  },
  {
   "cell_type": "code",
   "execution_count": null,
   "metadata": {},
   "outputs": [],
   "source": []
  }
 ],
 "metadata": {
  "kernelspec": {
   "display_name": "Python 3",
   "language": "python",
   "name": "python3"
  },
  "language_info": {
   "codemirror_mode": {
    "name": "ipython",
    "version": 3
   },
   "file_extension": ".py",
   "mimetype": "text/x-python",
   "name": "python",
   "nbconvert_exporter": "python",
   "pygments_lexer": "ipython3",
   "version": "3.7.4"
  }
 },
 "nbformat": 4,
 "nbformat_minor": 2
}
