{
 "cells": [
  {
   "cell_type": "markdown",
   "metadata": {},
   "source": [
    "## Part 14: Set Operations"
   ]
  },
  {
   "cell_type": "code",
   "execution_count": 1,
   "metadata": {},
   "outputs": [
    {
     "name": "stdout",
     "output_type": "stream",
     "text": [
      "[1 2 3 4 5]\n",
      "[1 2 3 4 5]\n"
     ]
    }
   ],
   "source": [
    "import numpy as np\n",
    "\n",
    "# np.unique()  > return only unique elements\n",
    "_1d = np.array([1, 2, 3, 3, 2, 1, 4, 5])\n",
    "_2d = np.array([[1, 2, 3],\n",
    "                [3, 2, 1],\n",
    "                [4, 5, 3]])\n",
    "\n",
    "\n",
    "print(np.unique(_1d))\n",
    "print(np.unique(_2d))"
   ]
  },
  {
   "cell_type": "code",
   "execution_count": 2,
   "metadata": {},
   "outputs": [
    {
     "name": "stdout",
     "output_type": "stream",
     "text": [
      "[False  True  True False False]\n"
     ]
    }
   ],
   "source": [
    "# np.in1d() > return array of bool checking elements of array with other array \n",
    "_1d_array = np.array([0, 1, 2, 3, 4])\n",
    "ele = np.array([1, 2])\n",
    "print(np.in1d(_1d_array, ele))"
   ]
  },
  {
   "cell_type": "code",
   "execution_count": 3,
   "metadata": {},
   "outputs": [
    {
     "name": "stdout",
     "output_type": "stream",
     "text": [
      "[1 3]\n"
     ]
    }
   ],
   "source": [
    "# np.intersect1d() > return intersect element \n",
    "array1 = np.array([0, 1, 1, 3])\n",
    "array2 = np.array([1, 2, 2, 3])\n",
    "print(np.intersect1d(array1, array2))"
   ]
  },
  {
   "cell_type": "code",
   "execution_count": 4,
   "metadata": {},
   "outputs": [
    {
     "name": "stdout",
     "output_type": "stream",
     "text": [
      "[0]\n",
      "[2]\n"
     ]
    }
   ],
   "source": [
    "# Minus operation/ Set difference\n",
    "print(np.setdiff1d(array1, array2))  # return ele from arra1 which is not in array2\n",
    "print(np.setdiff1d(array2, array1))  # return ele from arra2 which is not in array1"
   ]
  },
  {
   "cell_type": "code",
   "execution_count": 6,
   "metadata": {},
   "outputs": [
    {
     "name": "stdout",
     "output_type": "stream",
     "text": [
      "[0 2]\n",
      "[0 2]\n"
     ]
    }
   ],
   "source": [
    "# np.setxor1d() > return element which not present in both arrays\n",
    "print(np.setxor1d(array1, array2))   \n",
    "print(np.setxor1d(array2, array1))"
   ]
  },
  {
   "cell_type": "code",
   "execution_count": 9,
   "metadata": {},
   "outputs": [
    {
     "name": "stdout",
     "output_type": "stream",
     "text": [
      "[0 1 2 3]\n"
     ]
    }
   ],
   "source": [
    "# np.union1d() > return unique elements in both arrays\n",
    "print(np.union1d(array1, array2))"
   ]
  }
 ],
 "metadata": {
  "kernelspec": {
   "display_name": "Python 3",
   "language": "python",
   "name": "python3"
  },
  "language_info": {
   "codemirror_mode": {
    "name": "ipython",
    "version": 3
   },
   "file_extension": ".py",
   "mimetype": "text/x-python",
   "name": "python",
   "nbconvert_exporter": "python",
   "pygments_lexer": "ipython3",
   "version": "3.7.4"
  }
 },
 "nbformat": 4,
 "nbformat_minor": 2
}
