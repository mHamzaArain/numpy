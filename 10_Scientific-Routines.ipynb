{
 "cells": [
  {
   "cell_type": "markdown",
   "metadata": {},
   "source": [
    "# Dot Product"
   ]
  },
  {
   "cell_type": "code",
   "execution_count": 1,
   "metadata": {},
   "outputs": [
    {
     "name": "stdout",
     "output_type": "stream",
     "text": [
      "50\n"
     ]
    }
   ],
   "source": [
    "import numpy as np\n",
    "\n",
    "print(np.dot(10, 5))"
   ]
  },
  {
   "cell_type": "code",
   "execution_count": 2,
   "metadata": {},
   "outputs": [
    {
     "name": "stdout",
     "output_type": "stream",
     "text": [
      "34\n"
     ]
    }
   ],
   "source": [
    "a = np.array([2, 4], np.uint8)\n",
    "b = np.array([5, 6], np.uint8)\n",
    "\n",
    "print(np.dot(a, b))  # (2*5)+(4*6)=34"
   ]
  },
  {
   "cell_type": "code",
   "execution_count": 3,
   "metadata": {},
   "outputs": [
    {
     "name": "stdout",
     "output_type": "stream",
     "text": [
      "[[46 24]\n",
      " [97 54]]\n"
     ]
    }
   ],
   "source": [
    "a = np.array([[2, 4], [5, 8]], np.uint8)\n",
    "b = np.array([[5, 6], [9, 3]], np.uint8)\n",
    "\n",
    "print(np.dot(a, b))"
   ]
  },
  {
   "cell_type": "code",
   "execution_count": 4,
   "metadata": {},
   "outputs": [
    {
     "name": "stdout",
     "output_type": "stream",
     "text": [
      "[[1.4962986  1.11243145 1.44220732 1.42729872]\n",
      " [1.30839189 0.96229936 1.25116587 1.2734976 ]\n",
      " [1.55745529 1.14211217 1.4861297  1.52413464]\n",
      " [0.81569894 0.58887072 0.76949526 0.82092097]\n",
      " [0.89007817 0.66724691 0.86314868 0.83558762]\n",
      " [1.29776294 0.96003686 1.24628821 1.24960512]\n",
      " [0.61293932 0.45889774 0.59383125 0.57685917]\n",
      " [0.5847196  0.43138805 0.56041771 0.56586475]\n",
      " [1.12790912 0.84503366 1.09330516 1.06008565]\n",
      " [0.84353899 0.61999681 0.80625307 0.82204537]]\n"
     ]
    }
   ],
   "source": [
    "a = np.random.rand(10, 5)\n",
    "b = np.random.rand(5, 2)\n",
    "c = np.random.rand(2, 3)\n",
    "d = np.random.rand(3, 4)\n",
    "\n",
    "e = np.linalg.multi_dot([a, b, c, d])\n",
    "print(e)\n"
   ]
  },
  {
   "cell_type": "markdown",
   "metadata": {},
   "source": [
    "# Vector Dot Product"
   ]
  },
  {
   "cell_type": "code",
   "execution_count": 5,
   "metadata": {},
   "outputs": [
    {
     "name": "stdout",
     "output_type": "stream",
     "text": [
      "11\n"
     ]
    }
   ],
   "source": [
    "a = np.array ([1, 2])\n",
    "b = np.array ([3, 4])\n",
    "\n",
    "print(np.vdot(a, b))"
   ]
  },
  {
   "cell_type": "code",
   "execution_count": 6,
   "metadata": {},
   "outputs": [
    {
     "name": "stdout",
     "output_type": "stream",
     "text": [
      "(42-11j)\n"
     ]
    }
   ],
   "source": [
    "a = np.array ([1 + 5j, 2 + 3j])\n",
    "b = np.array ([3 + 2j, 4 + 7j])\n",
    "\n",
    "print(np.vdot(a, b))"
   ]
  },
  {
   "cell_type": "code",
   "execution_count": 7,
   "metadata": {},
   "outputs": [
    {
     "name": "stdout",
     "output_type": "stream",
     "text": [
      "(42+11j)\n"
     ]
    }
   ],
   "source": [
    "print(np.vdot(b, a))"
   ]
  },
  {
   "cell_type": "markdown",
   "metadata": {},
   "source": [
    "# Inner Product"
   ]
  },
  {
   "cell_type": "code",
   "execution_count": 8,
   "metadata": {},
   "outputs": [
    {
     "name": "stdout",
     "output_type": "stream",
     "text": [
      "12\n"
     ]
    }
   ],
   "source": [
    "a = np.array([1, 2, 3, 4, 5, 6])\n",
    "b = np.array([0, 1, 0, 1, 0, 1])\n",
    "\n",
    "print(np.inner(a, b))"
   ]
  },
  {
   "cell_type": "code",
   "execution_count": 9,
   "metadata": {},
   "outputs": [
    {
     "name": "stdout",
     "output_type": "stream",
     "text": [
      "[[ 2  4]\n",
      " [ 5 10]]\n"
     ]
    }
   ],
   "source": [
    "a = np.array([[1, 2, 3], [4, 5, 6]])\n",
    "b = np.array([[0, 1, 0], [1, 0, 1]])\n",
    "\n",
    "print(np.inner(a, b))"
   ]
  },
  {
   "cell_type": "markdown",
   "metadata": {},
   "source": [
    "# QR Decomposition"
   ]
  },
  {
   "cell_type": "code",
   "execution_count": 10,
   "metadata": {},
   "outputs": [
    {
     "name": "stdout",
     "output_type": "stream",
     "text": [
      "[[0.57820341 0.29770922 0.97786366]\n",
      " [0.71101691 0.7210673  0.71048506]\n",
      " [0.16380876 0.31116214 0.95699846]]\n"
     ]
    }
   ],
   "source": [
    "a = np.random.rand(3, 3)\n",
    "print(a)"
   ]
  },
  {
   "cell_type": "code",
   "execution_count": 11,
   "metadata": {},
   "outputs": [
    {
     "name": "stdout",
     "output_type": "stream",
     "text": [
      "q =  [[-0.62107903  0.67989133  0.38988282]\n",
      " [-0.76374108 -0.41334228 -0.49583034]\n",
      " [-0.1759557  -0.60571935  0.77597916]] \n",
      "\n",
      "r =  [[-0.93096591 -0.79036042 -1.31834656]\n",
      " [ 0.         -0.28411461 -0.20850497]\n",
      " [ 0.          0.          0.77158306]] \n",
      "\n",
      "[[0.57820341 0.29770922 0.97786366]\n",
      " [0.71101691 0.7210673  0.71048506]\n",
      " [0.16380876 0.31116214 0.95699846]]\n"
     ]
    }
   ],
   "source": [
    "q, r = np.linalg.qr(a)\n",
    "print('q = ', q, '\\n\\nr = ', r, '\\n')\n",
    "\n",
    "print(np.dot(q, r))"
   ]
  },
  {
   "cell_type": "markdown",
   "metadata": {},
   "source": [
    "# Determinant and Solving Linear Equations"
   ]
  },
  {
   "cell_type": "code",
   "execution_count": 12,
   "metadata": {},
   "outputs": [
    {
     "name": "stdout",
     "output_type": "stream",
     "text": [
      "2.0000000000000013\n"
     ]
    }
   ],
   "source": [
    "a = np.array([[5, 6], [3, 4]])\n",
    "\n",
    "print(np.linalg.det(a))"
   ]
  },
  {
   "cell_type": "code",
   "execution_count": 13,
   "metadata": {},
   "outputs": [
    {
     "name": "stdout",
     "output_type": "stream",
     "text": [
      "[2. 1. 3.]\n"
     ]
    }
   ],
   "source": [
    "a = np.array([[2, 1, -3 ], [4, -2, 1], [3, 5, -2]], np.int16)\n",
    "b = np.array([-4, 9, 5], np.int16)\n",
    "\n",
    "# ax = b\n",
    "\n",
    "x = np.linalg.solve(a, b)\n",
    "print(x)"
   ]
  },
  {
   "cell_type": "code",
   "execution_count": null,
   "metadata": {},
   "outputs": [],
   "source": []
  }
 ],
 "metadata": {
  "kernelspec": {
   "display_name": "Python 3",
   "language": "python",
   "name": "python3"
  },
  "language_info": {
   "codemirror_mode": {
    "name": "ipython",
    "version": 3
   },
   "file_extension": ".py",
   "mimetype": "text/x-python",
   "name": "python",
   "nbconvert_exporter": "python",
   "pygments_lexer": "ipython3",
   "version": "3.7.4"
  }
 },
 "nbformat": 4,
 "nbformat_minor": 2
}
